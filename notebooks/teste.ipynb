{
 "cells": [
  {
   "cell_type": "code",
   "execution_count": 7,
   "metadata": {},
   "outputs": [
    {
     "name": "stdout",
     "output_type": "stream",
     "text": [
      "main - snippet 1\n"
     ]
    }
   ],
   "source": [
    "print('main - snippet 1')"
   ]
  },
  {
   "cell_type": "code",
   "execution_count": 8,
   "metadata": {},
   "outputs": [
    {
     "name": "stdout",
     "output_type": "stream",
     "text": [
      "dev - snippet 2\n"
     ]
    }
   ],
   "source": [
    "print('dev - snippet 2')"
   ]
  },
  {
   "cell_type": "code",
   "execution_count": 9,
   "metadata": {},
   "outputs": [
    {
     "name": "stdout",
     "output_type": "stream",
     "text": [
      "dev - snippet 3\n"
     ]
    }
   ],
   "source": [
    "print('dev - snippet 3')"
   ]
  }
 ],
 "metadata": {
  "kernelspec": {
   "display_name": "git_ds",
   "language": "python",
   "name": "python3"
  },
  "language_info": {
   "codemirror_mode": {
    "name": "ipython",
    "version": 3
   },
   "file_extension": ".py",
   "mimetype": "text/x-python",
   "name": "python",
   "nbconvert_exporter": "python",
   "pygments_lexer": "ipython3",
   "version": "3.10.8"
  },
  "vscode": {
   "interpreter": {
    "hash": "526671f7d1630e44785f5c5f8f86242a3dcb55a9ad9c39a97e95369107fe7ed0"
   }
  }
 },
 "nbformat": 4,
 "nbformat_minor": 2
}
